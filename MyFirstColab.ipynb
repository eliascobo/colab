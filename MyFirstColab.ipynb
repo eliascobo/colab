{
  "nbformat": 4,
  "nbformat_minor": 0,
  "metadata": {
    "colab": {
      "name": "MyFirstColab.ipynb",
      "provenance": [],
      "include_colab_link": true
    },
    "kernelspec": {
      "name": "python3",
      "display_name": "Python 3"
    },
    "accelerator": "GPU"
  },
  "cells": [
    {
      "cell_type": "markdown",
      "metadata": {
        "id": "view-in-github",
        "colab_type": "text"
      },
      "source": [
        "<a href=\"https://colab.research.google.com/github/eliascobo/colab/blob/master/MyFirstColab.ipynb\" target=\"_parent\"><img src=\"https://colab.research.google.com/assets/colab-badge.svg\" alt=\"Open In Colab\"/></a>"
      ]
    },
    {
      "cell_type": "code",
      "metadata": {
        "id": "lnn5IefuRqTt",
        "colab_type": "code",
        "colab": {}
      },
      "source": [
        "import numpy as np"
      ],
      "execution_count": 0,
      "outputs": []
    },
    {
      "cell_type": "code",
      "metadata": {
        "id": "ZxLCFUtvSjev",
        "colab_type": "code",
        "colab": {}
      },
      "source": [
        "from sklearn.linear_model import LogisticRegression"
      ],
      "execution_count": 0,
      "outputs": []
    },
    {
      "cell_type": "code",
      "metadata": {
        "id": "mogVFK14TDh1",
        "colab_type": "code",
        "colab": {}
      },
      "source": [
        "folder = 'sample_data/'"
      ],
      "execution_count": 0,
      "outputs": []
    },
    {
      "cell_type": "code",
      "metadata": {
        "id": "gk7cFz9fSu3e",
        "colab_type": "code",
        "colab": {
          "base_uri": "https://localhost:8080/",
          "height": 69
        },
        "outputId": "f6f393e2-7129-4490-f0fa-3be1eebca012"
      },
      "source": [
        "! ls {folder}"
      ],
      "execution_count": 22,
      "outputs": [
        {
          "output_type": "stream",
          "text": [
            "anscombe.json\t\t      mnist_test.csv\n",
            "california_housing_test.csv   mnist_train_small.csv\n",
            "california_housing_train.csv  README.md\n"
          ],
          "name": "stdout"
        }
      ]
    },
    {
      "cell_type": "code",
      "metadata": {
        "id": "mTn_FRm6S5cG",
        "colab_type": "code",
        "colab": {}
      },
      "source": [
        "import  nltk"
      ],
      "execution_count": 0,
      "outputs": []
    },
    {
      "cell_type": "code",
      "metadata": {
        "id": "gqNO8g8iVmMj",
        "colab_type": "code",
        "colab": {}
      },
      "source": [
        "import gluoncv"
      ],
      "execution_count": 0,
      "outputs": []
    },
    {
      "cell_type": "code",
      "metadata": {
        "id": "zfHroFFXWTjm",
        "colab_type": "code",
        "colab": {
          "base_uri": "https://localhost:8080/",
          "height": 384
        },
        "outputId": "8e4024e4-31d3-4699-b814-39cce0a680fa"
      },
      "source": [
        "! wget https://github.com/deeplearning-itba/kaggle-rossmann/blob/master/rossmann.zip?raw=true"
      ],
      "execution_count": 39,
      "outputs": [
        {
          "output_type": "stream",
          "text": [
            "--2019-10-02 12:09:36--  https://github.com/deeplearning-itba/kaggle-rossmann/blob/master/rossmann.zip?raw=true\n",
            "Resolving github.com (github.com)... 140.82.118.4\n",
            "Connecting to github.com (github.com)|140.82.118.4|:443... connected.\n",
            "HTTP request sent, awaiting response... 302 Found\n",
            "Location: https://github.com/deeplearning-itba/kaggle-rossmann/raw/master/rossmann.zip [following]\n",
            "--2019-10-02 12:09:36--  https://github.com/deeplearning-itba/kaggle-rossmann/raw/master/rossmann.zip\n",
            "Reusing existing connection to github.com:443.\n",
            "HTTP request sent, awaiting response... 302 Found\n",
            "Location: https://raw.githubusercontent.com/deeplearning-itba/kaggle-rossmann/master/rossmann.zip [following]\n",
            "--2019-10-02 12:09:37--  https://raw.githubusercontent.com/deeplearning-itba/kaggle-rossmann/master/rossmann.zip\n",
            "Resolving raw.githubusercontent.com (raw.githubusercontent.com)... 151.101.0.133, 151.101.64.133, 151.101.128.133, ...\n",
            "Connecting to raw.githubusercontent.com (raw.githubusercontent.com)|151.101.0.133|:443... connected.\n",
            "HTTP request sent, awaiting response... 200 OK\n",
            "Length: 7709768 (7.4M) [application/zip]\n",
            "Saving to: ‘rossmann.zip?raw=true.1’\n",
            "\n",
            "\rrossmann.zip?raw=tr   0%[                    ]       0  --.-KB/s               \rrossmann.zip?raw=tr 100%[===================>]   7.35M  --.-KB/s    in 0.07s   \n",
            "\n",
            "2019-10-02 12:09:37 (112 MB/s) - ‘rossmann.zip?raw=true.1’ saved [7709768/7709768]\n",
            "\n"
          ],
          "name": "stdout"
        }
      ]
    },
    {
      "cell_type": "code",
      "metadata": {
        "id": "wZcRA5W3XuYR",
        "colab_type": "code",
        "colab": {
          "base_uri": "https://localhost:8080/",
          "height": 34
        },
        "outputId": "9fccb33e-2052-4c1b-adf0-2eb3c1fbb9d4"
      },
      "source": [
        "mv rossmann.zip?\\raw=\\true rossmann.zip"
      ],
      "execution_count": 42,
      "outputs": [
        {
          "output_type": "stream",
          "text": [
            "mv: cannot stat 'rossmann.zip?raw=true': No such file or directory\n"
          ],
          "name": "stdout"
        }
      ]
    },
    {
      "cell_type": "code",
      "metadata": {
        "id": "wxInnpd3XMI5",
        "colab_type": "code",
        "colab": {
          "base_uri": "https://localhost:8080/",
          "height": 382
        },
        "outputId": "7173eb5c-fe46-4284-cf31-6f2c0ea6a8b2"
      },
      "source": [
        "! unzip rossmann.zip"
      ],
      "execution_count": 43,
      "outputs": [
        {
          "output_type": "stream",
          "text": [
            "Archive:  rossmann.zip\n",
            "   creating: rossmann/\n",
            "  inflating: rossmann/state_names.csv  \n",
            "   creating: __MACOSX/\n",
            "   creating: __MACOSX/rossmann/\n",
            "  inflating: __MACOSX/rossmann/._state_names.csv  \n",
            "  inflating: rossmann/googletrend.csv  \n",
            "  inflating: __MACOSX/rossmann/._googletrend.csv  \n",
            "  inflating: rossmann/test.csv       \n",
            "  inflating: __MACOSX/rossmann/._test.csv  \n",
            "  inflating: rossmann/weather.csv    \n",
            "  inflating: __MACOSX/rossmann/._weather.csv  \n",
            "  inflating: rossmann/train.csv      \n",
            "  inflating: __MACOSX/rossmann/._train.csv  \n",
            "  inflating: rossmann/store_states.csv  \n",
            "  inflating: __MACOSX/rossmann/._store_states.csv  \n",
            "  inflating: rossmann/store.csv      \n",
            "  inflating: __MACOSX/rossmann/._store.csv  \n",
            "  inflating: rossmann/sample_submission.csv  \n",
            "  inflating: __MACOSX/rossmann/._sample_submission.csv  \n",
            "  inflating: __MACOSX/._rossmann     \n"
          ],
          "name": "stdout"
        }
      ]
    }
  ]
}